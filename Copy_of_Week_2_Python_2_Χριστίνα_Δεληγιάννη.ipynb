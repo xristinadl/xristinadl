{
  "nbformat": 4,
  "nbformat_minor": 0,
  "metadata": {
    "colab": {
      "provenance": [],
      "include_colab_link": true
    },
    "kernelspec": {
      "name": "python3",
      "display_name": "Python 3"
    },
    "language_info": {
      "name": "python"
    }
  },
  "cells": [
    {
      "cell_type": "markdown",
      "metadata": {
        "id": "view-in-github",
        "colab_type": "text"
      },
      "source": [
        "<a href=\"https://colab.research.google.com/github/xristinadl/xristinadl/blob/main/Copy_of_Week_2_Python_2_%CE%A7%CF%81%CE%B9%CF%83%CF%84%CE%AF%CE%BD%CE%B1_%CE%94%CE%B5%CE%BB%CE%B7%CE%B3%CE%B9%CE%AC%CE%BD%CE%BD%CE%B7.ipynb\" target=\"_parent\"><img src=\"https://colab.research.google.com/assets/colab-badge.svg\" alt=\"Open In Colab\"/></a>"
      ]
    },
    {
      "cell_type": "markdown",
      "source": [
        "#Ασκήσεις του μαθήματος \"Εισαγωγή στην Python 2 - Εντολές ελέγχου: for και if\""
      ],
      "metadata": {
        "id": "AGAGAw3z6_bZ"
      }
    },
    {
      "cell_type": "markdown",
      "source": [
        "\n",
        "\n",
        "---\n",
        "\n",
        "####**Άσκηση 1**\n",
        "\n",
        "**Try yourself**: Φτιάξτε ένα νέο κελί κώδικα ακριβώς από κάτω και:\n",
        "\n",
        "* Φτιάξτε μια λίστα με ονόματα 3 αγαπημένων σας ηθοποιών\n",
        "* Φτιάξτε άλλη μια λίστα με το βαθμό (από το 1 έως το 10) που θα τους βάζατε\n",
        "* Φτιάξτε μια λούπα που να τρέχει στη λίστα των ηθποιών και να τυπώνει το όνομα του/της ηθοποιού με το βαθμό του "
      ],
      "metadata": {
        "id": "9KIe03Wzq7p3"
      }
    },
    {
      "cell_type": "code",
      "source": [
        "actors = [\"Song Hyekyo\" , \"Lim Yoona\" , \"Lee Elijah\"]\n",
        "rating = [\"8\" , \"10\" , \"9\"]\n",
        "for i in range(len(actors)):\n",
        "    print(actors[i] + ':' + str(rating[i]))"
      ],
      "metadata": {
        "colab": {
          "base_uri": "https://localhost:8080/"
        },
        "id": "495GouscWHaN",
        "outputId": "f9e9e682-b7f9-4e55-cdb0-ca90bedffea0"
      },
      "execution_count": 16,
      "outputs": [
        {
          "output_type": "stream",
          "name": "stdout",
          "text": [
            "Song Hyekyo:8\n",
            "Lim Yoona:10\n",
            "Lee Elijah:9\n"
          ]
        }
      ]
    },
    {
      "cell_type": "markdown",
      "source": [
        "\n",
        "\n",
        "---\n",
        "\n",
        "####**Άσκηση 2**\n",
        "\n",
        "**Try yourself**: Στο παρακάτω κελί και κάτω από τον υπάρχοντα κώδικα:\n",
        "\n",
        "* φτιάξτε μια for loop που θα τρέχει 22 φορές και \n",
        "* θα φτιάχνει μια μεταβλητή με όνομα c και τιμή το άθροισμα των a και b\n",
        "* θα τυπώνει την τιμή του c\n",
        "* θα αλλάζει την τιμή του a σε b και  \n",
        "* θα αλλάζει την τιμή του b σε c\n",
        "* τρέξτε τον κώδικα\n"
      ],
      "metadata": {
        "id": "wJDRIJj4seRf"
      }
    },
    {
      "cell_type": "code",
      "source": [
        "a = 5\n",
        "b = 10\n",
        "c = a + b\n",
        "print(c)"
      ],
      "metadata": {
        "colab": {
          "base_uri": "https://localhost:8080/"
        },
        "id": "0KgdRUftOsIh",
        "outputId": "1e277fe0-efd8-4ff7-8d40-8621462ab3e8"
      },
      "execution_count": 60,
      "outputs": [
        {
          "output_type": "stream",
          "name": "stdout",
          "text": [
            "15\n"
          ]
        }
      ]
    },
    {
      "cell_type": "markdown",
      "source": [
        "\n",
        "\n",
        "---\n",
        "\n",
        "####**Άσκηση 3**\n",
        "\n",
        "**Try yourself**: Συμπληρώστε το παρακάτω code cell, ακολουθώντας τα σχόλια που περιέχει, έτσι ώστε ο κώδικας:\n",
        "\n",
        "* να φτιάχνει ένα λεξικό με κλειδιά τις πόλεις: Αθήνα, θεσσαλονίκη, Λισαβόνα και τιμές σε όλα το 0\n",
        "* να φτιάχνει μια λίστα με τιμές αριθμούς που δηλώνουν τις θερμοκρασίες της ημέρας σε κάθε πόλη: 19, 17, 21\n",
        "* να περιέχει μια λούπα που θα τρέχει αριθμούς στο εύρος των τιμών που μπορεί να πάρει το index των αντικειμένων της λίστας και\n",
        "  1. θα εκχωρεί το εκάστοτε όνομα του key του λεξικού σε μια μεταβλητή\n",
        "  2. θα θέτει σαν τιμή του εκάστοτε κλειδιού την αντίστοιχη τιμή από τη λίστα των θερμοκρασιών\n",
        "\n",
        "**Tips**: \n",
        "* θα χρησιμοποιηθεί η συνάρτηση list για να μετατραπεί το set των keys() σε λίστα\n",
        "* θα χρησιμοποιηθεί ο αριθμός index για να επιλέγονται τα keys του λεξικού και τα αντικείμενα της λίστας\n"
      ],
      "metadata": {
        "id": "s72eW477yQAa"
      }
    },
    {
      "cell_type": "code",
      "source": [
        "weather = {\"Αθήνα\":0 , \"Θεσσαλονίκη\":0 , \"Λισαβόνα\":0}"
      ],
      "metadata": {
        "id": "pO6-GAm7xjXw"
      },
      "execution_count": 27,
      "outputs": []
    },
    {
      "cell_type": "code",
      "source": [
        "temperatures = [19 ,17 ,21]"
      ],
      "metadata": {
        "id": "9gnsbfLcx9ft"
      },
      "execution_count": 29,
      "outputs": []
    },
    {
      "cell_type": "code",
      "source": [
        "temperatures_len = len(temperatures)"
      ],
      "metadata": {
        "id": "VvFi7F3wzBq7"
      },
      "execution_count": 30,
      "outputs": []
    },
    {
      "cell_type": "code",
      "source": [
        "for i in range(len(temperatures)):\n",
        "   city = list(weather.keys())[i]\n",
        "   temp = temperatures[i]\n",
        "   weather[city] = temp\n",
        "   print(weather)"
      ],
      "metadata": {
        "colab": {
          "base_uri": "https://localhost:8080/"
        },
        "id": "nAvDZaDSGBY6",
        "outputId": "d1b2f6b0-5e6b-4179-faa5-677ebd1aceea"
      },
      "execution_count": 31,
      "outputs": [
        {
          "output_type": "stream",
          "name": "stdout",
          "text": [
            "{'Αθήνα': 19, 'Θεσσαλονίκη': 0, 'Λισαβόνα': 0}\n",
            "{'Αθήνα': 19, 'Θεσσαλονίκη': 17, 'Λισαβόνα': 0}\n",
            "{'Αθήνα': 19, 'Θεσσαλονίκη': 17, 'Λισαβόνα': 21}\n"
          ]
        }
      ]
    },
    {
      "cell_type": "markdown",
      "source": [
        "\n",
        "\n",
        "---\n",
        "\n",
        "####**Ασκηση 4**\n",
        "\n",
        "**Try yourself**: \n",
        "\n",
        "Στο κελί κώδικα ακριβώς κάτω από αυτό:\n",
        "\n",
        "* δημιουργήστε μια μεταβλητή με τιμή το όνομά σας και τρέξτε το κελί\n",
        "\n",
        "Φτιάξτε ένα **νέο κελί** (Code cell) από κάτω και:\n",
        "\n",
        "* γράψτε ένα κομμάτι κώδικα το οποίο:\n",
        "  * θα ελέγχει αν η τιμή της μεταβλητής του ονόματος είναι \"Terry\"\n",
        "  * αν είναι, θα τυπώνει στην οθόνη \"Hello Terry!\"\n",
        "  * αν δεν είναι:\n",
        "    * θα τυπώνει \"Wrong user\" και \n",
        "    * θα θέτει στη μεταβλητή του ονόματός σας την τιμή \"Terry\"\n",
        "* πριν τρέξετε το κελί, μαντέψτε τι θα τυπωθεί στην οθόνη\n",
        "* τρέξτε το κελί και συγκρίνετε το αποτέλεσμα με τη μαντεψιά σας\n",
        "* τι θα τυπωθεί αν ξανατρέξετε το κελί;"
      ],
      "metadata": {
        "id": "HSPetZqoTPiy"
      }
    },
    {
      "cell_type": "code",
      "source": [
        "name = \"xristina\""
      ],
      "metadata": {
        "id": "Kq6yGIKdKKRT"
      },
      "execution_count": 43,
      "outputs": []
    },
    {
      "cell_type": "code",
      "source": [
        "if name == \"xristina\":\n",
        "   print(\"wrong user\")\n",
        "else:\n",
        "   print(\"Hello Terry!\")"
      ],
      "metadata": {
        "colab": {
          "base_uri": "https://localhost:8080/"
        },
        "id": "LEk45twYDf2M",
        "outputId": "58363945-b6ab-428e-8d66-002777b33d0f"
      },
      "execution_count": 53,
      "outputs": [
        {
          "output_type": "stream",
          "name": "stdout",
          "text": [
            "wrong user\n"
          ]
        }
      ]
    },
    {
      "cell_type": "markdown",
      "source": [
        "* πώς θα κάνετε να ξανατυπώσει \"Wrong user\" χωρίς να γράψετε καθόλου κώδικα; Γράψτε την απάντηση από κάτω σε ένα text cell ή σε ένα code cell σαν comment."
      ],
      "metadata": {
        "id": "76wOxK3XjOek"
      }
    },
    {
      "cell_type": "code",
      "source": [
        "name == \"xristina\""
      ],
      "metadata": {
        "colab": {
          "base_uri": "https://localhost:8080/"
        },
        "id": "HAn6mLvdFN0n",
        "outputId": "613d46a9-7bdd-4bb5-8930-8c5e6ecb6de3"
      },
      "execution_count": 51,
      "outputs": [
        {
          "output_type": "execute_result",
          "data": {
            "text/plain": [
              "True"
            ]
          },
          "metadata": {},
          "execution_count": 51
        }
      ]
    },
    {
      "cell_type": "markdown",
      "source": [
        "\n",
        "\n",
        "---\n",
        "\n",
        "####**Άσκηση 5**"
      ],
      "metadata": {
        "id": "hedzZ2gBa-6g"
      }
    },
    {
      "cell_type": "markdown",
      "source": [
        "Έστω ότι έχουμε μια λίστα με φρούτα"
      ],
      "metadata": {
        "id": "fmsiDiVgccAP"
      }
    },
    {
      "cell_type": "code",
      "source": [
        "fruitsL = [\"apples\", \"oranges\", \"strawberries\", \"apricots\"]"
      ],
      "metadata": {
        "id": "cBI43Hg2Z3VD"
      },
      "execution_count": null,
      "outputs": []
    },
    {
      "cell_type": "markdown",
      "source": [
        "και μια λίστα με τους αριθμούς 1 και 10"
      ],
      "metadata": {
        "id": "H-rytYULOAY0"
      }
    },
    {
      "cell_type": "code",
      "source": [
        "countsL = [1, 10]"
      ],
      "metadata": {
        "id": "EFDfTEhtOHKK"
      },
      "execution_count": null,
      "outputs": []
    },
    {
      "cell_type": "markdown",
      "source": [
        "Γράψτε έναν κώδικα που θα λουπάρει σε όλα τα φρούτα της λίστας και σε όλους τους αριθμούς της countL και θα τυπώνει το μήνυμα: We've got <αριθμός> <φρούτο>\n",
        "\n",
        "**Tip**: χρησιμοποιήστε nested for loops (μια for loop μέσα σε μια άλλη for loop)"
      ],
      "metadata": {
        "id": "RLB0fP0gczIt"
      }
    },
    {
      "cell_type": "code",
      "source": [
        "for fruit in fruitsL:\n",
        "    "
      ],
      "metadata": {
        "id": "urHIQr5VdQXb",
        "colab": {
          "base_uri": "https://localhost:8080/",
          "height": 130
        },
        "outputId": "cc1be9e3-2dd9-4bcb-8016-568ba3df3c1d"
      },
      "execution_count": 13,
      "outputs": [
        {
          "output_type": "error",
          "ename": "IndentationError",
          "evalue": "ignored",
          "traceback": [
            "\u001b[0;36m  File \u001b[0;32m\"<ipython-input-13-ef5e4e68d21a>\"\u001b[0;36m, line \u001b[0;32m1\u001b[0m\n\u001b[0;31m    for fruit in fruitsL:\u001b[0m\n\u001b[0m                         ^\u001b[0m\n\u001b[0;31mIndentationError\u001b[0m\u001b[0;31m:\u001b[0m expected an indented block\n"
          ]
        }
      ]
    },
    {
      "cell_type": "markdown",
      "source": [
        "Όλα καλά, αλλά υπάρχει ένα γραμματικό λάθος. Στον ενικό, τα φρούτα δεν πρέπει να έχουν \"s\" στο τέλος."
      ],
      "metadata": {
        "id": "666ViCUydhZC"
      }
    },
    {
      "cell_type": "markdown",
      "source": [
        "Ξέρουμε ήδη ότι ένα string είναι λίστα. Επομένως μπορούμε χρησιμοποιώντας το slicing να πάρουμε τα ονόματα των φρούτων στον ενικό αφαιρώντας το \"s\" που είναι στο τέλος."
      ],
      "metadata": {
        "id": "gOZ3V13gd_CJ"
      }
    },
    {
      "cell_type": "code",
      "source": [
        "fruitsL[0][:-1]   # καλούμε το πρώτο όνομα της λίστας και από αυτό κρατάμε τα γράμματα από την αρχή έως το προτελευταίο"
      ],
      "metadata": {
        "id": "CfYY5HAie8gY",
        "colab": {
          "base_uri": "https://localhost:8080/",
          "height": 35
        },
        "outputId": "b7ad8c1f-372b-4241-9b09-988de02ad295"
      },
      "execution_count": null,
      "outputs": [
        {
          "output_type": "execute_result",
          "data": {
            "text/plain": [
              "'apple'"
            ],
            "application/vnd.google.colaboratory.intrinsic+json": {
              "type": "string"
            }
          },
          "metadata": {},
          "execution_count": 4
        }
      ]
    },
    {
      "cell_type": "markdown",
      "source": [
        "Πολύ ωραία! Στο επόμενο cell, εφαρμόστε το slicing στη λούπα που γράψατε παραπάνω και τρέξτε το."
      ],
      "metadata": {
        "id": "ZO7tnWeZfm5D"
      }
    },
    {
      "cell_type": "code",
      "source": [
        "for fruit in fruitsL:\n"
      ],
      "metadata": {
        "id": "t7OHtmn8gGYH",
        "colab": {
          "base_uri": "https://localhost:8080/"
        },
        "outputId": "c6635230-e9f9-4100-903e-57c47dd1ac5f"
      },
      "execution_count": null,
      "outputs": [
        {
          "output_type": "stream",
          "name": "stdout",
          "text": [
            "We've got 1 apple\n",
            "We've got 10 apple\n",
            "We've got 1 orange\n",
            "We've got 10 orange\n",
            "We've got 1 strawberrie\n",
            "We've got 10 strawberrie\n",
            "We've got 1 apricot\n",
            "We've got 10 apricot\n"
          ]
        }
      ]
    },
    {
      "cell_type": "markdown",
      "source": [
        "Ωραία, αλλά τώρα έφυγε το \"s\" και από τον πληθυντικό. Προσθέστε στον κώδικα ένα if (μέσα στη δεύτερη for loop) για να ελέγξετε το πότε θα αφαιρείται το \"s\" και πότε θα παραμένει.\n",
        "\n",
        "**Tip**: Πολλές φορές, όταν υπάρχει μια σχετική πολυπλοκότητα, επειδή αν αρχίσουμε να γράφουμε υπάρχει ο σοβαρότατος κίνδυνος να μας σπάσουν τα νεύρα, βοηθάει να γράψουμε πρώτα έναν \"ψευτοκώδικα\" για να ξεκαθαρίσουμε τι πρέπει να γίνει:\n",
        "\n",
        "```\n",
        "Για κάθε φρούτο στη fruitsL:\n",
        "  Για κάθε αριθμό στην countsL:\n",
        "    Αν ο αριθμός είναι ίσος με 1:\n",
        "      σωστό_φρούτο = <φρούτο από τη λίστα χωρίς \"s\">\n",
        "      τύπωσε(έχουμε <αριθμός> <σωστό_φρούτο>)\n",
        "    Αλλιώς:\n",
        "      τύπωσε(έχουμε <αριθμός> <φρούτο από τη λίστα>)\n",
        "```"
      ],
      "metadata": {
        "id": "D333sJzwWz0p"
      }
    },
    {
      "cell_type": "code",
      "source": [
        "for fruit in fruitsL:\n"
      ],
      "metadata": {
        "colab": {
          "base_uri": "https://localhost:8080/"
        },
        "id": "Itb_lvw7XfGb",
        "outputId": "8b70dba8-dec8-4d13-a1da-0bf7b8e4a51b"
      },
      "execution_count": null,
      "outputs": [
        {
          "output_type": "stream",
          "name": "stdout",
          "text": [
            "We've got 1 apple\n",
            "We've got 10 apples\n",
            "We've got 1 orange\n",
            "We've got 10 oranges\n",
            "We've got 1 strawberrie\n",
            "We've got 10 strawberries\n",
            "We've got 1 apricot\n",
            "We've got 10 apricots\n"
          ]
        }
      ]
    },
    {
      "cell_type": "markdown",
      "source": [
        "Ωραία, αλλά και πάλι, το strawberrie δεν είναι σωστό. \n",
        "\n",
        "Αντιγράψτε τον κώδικα και προσθέστε μια εντολή if, η οποία θα ελέγχει αν το τρίτο γράμμα από το τέλος του εκάστοτε ονόματος στη λίστα των φρούτων είναι \"i\" (strawberr**i**es). Αν είναι, τότε θα αντικαθιστά (replace) ό,τι πρέπει να αντικατασταθεί όταν τυπώνει το όνομα. \n",
        "\n",
        "**Help**: o ψευτοκώδικας θα ήταν κάπως έτσι:\n",
        "\n",
        "```\n",
        "Για κάθε φρούτο στη fruitsL:\n",
        "  Για κάθε αριθμό στην countsL:\n",
        "    Αν ο αριθμός είναι ίσος με 1:\n",
        "      Αν <το 3ο γράμμα απ' το τέλος στο όνομα του φρούτου> είναι \"i\":\n",
        "        σωστό_όνομα = <φρούτο απ'τη λίστα με αντικατάσταση της κατάληξης τάδε με τάδε> \n",
        "        τύπωσε(έχουμε <αριθμός> <σωστό όνομα>)\n",
        "      Αλλιώς:\n",
        "        τύπωσε(έχουμε <αριθμός> <φρούτο από τη λίστα χωρίς \"s\">)\n",
        "    Αλλιώς:\n",
        "      τύπωσε(έχουμε <αριθμός> <φρούτο από τη λίστα)\n",
        "```"
      ],
      "metadata": {
        "id": "gEgSD4T8gR9J"
      }
    },
    {
      "cell_type": "code",
      "source": [],
      "metadata": {
        "id": "VcUhUTNDhBHs",
        "colab": {
          "base_uri": "https://localhost:8080/"
        },
        "outputId": "a4b77635-3796-40d3-84e9-ce57f541507f"
      },
      "execution_count": null,
      "outputs": [
        {
          "output_type": "stream",
          "name": "stdout",
          "text": [
            "We've got 1 apple\n",
            "We've got 10 apples\n",
            "We've got 1 orange\n",
            "We've got 10 oranges\n",
            "We've got 1 strawberry\n",
            "We've got 10 strawberries\n",
            "We've got 1 apricot\n",
            "We've got 10 apricots\n"
          ]
        }
      ]
    }
  ]
}